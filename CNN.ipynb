{
 "cells": [
  {
   "cell_type": "code",
   "execution_count": 5,
   "id": "6b92790e-4289-4668-9ff3-ab19cf1c39d1",
   "metadata": {},
   "outputs": [],
   "source": [
    "import tensorflow as tf\n",
    "import pandas as pd\n",
    "import numpy as np\n",
    "from PIL import Image"
   ]
  },
  {
   "cell_type": "markdown",
   "id": "692c31da-0554-4e5d-9c95-b7421d979a7e",
   "metadata": {},
   "source": [
    "## Preproccess Data"
   ]
  },
  {
   "cell_type": "code",
   "execution_count": 2,
   "id": "c7f81ea5-6035-461d-8d62-620c39853d03",
   "metadata": {},
   "outputs": [
    {
     "name": "stdout",
     "output_type": "stream",
     "text": [
      "Found 478 images belonging to 2 classes.\n",
      "Found 119 images belonging to 2 classes.\n"
     ]
    }
   ],
   "source": [
    "from tensorflow.keras.preprocessing.image import ImageDataGenerator\n",
    "\n",
    "train_datagen = ImageDataGenerator(rescale=1./255,\n",
    "validation_split=.2)\n",
    "train_dir = \"NewImages/\"\n",
    "\n",
    "train_data = train_datagen.flow_from_directory(\n",
    "    train_dir,  # Folder containing your image dataset\n",
    "    target_size=(224,224),  # Resize images to target size\n",
    "    batch_size=32,\n",
    "    class_mode='binary',  # Use None if you're just augmenting data (no labels)\n",
    "    subset='training',\n",
    "    shuffle=True\n",
    "    )\n",
    "test_dataset = train_datagen.flow_from_directory(\n",
    "    train_dir,\n",
    "    target_size=(224,224),\n",
    "    class_mode='binary',\n",
    "    subset='validation',\n",
    "    shuffle=True\n",
    ")\n",
    "\n"
   ]
  },
  {
   "cell_type": "markdown",
   "id": "eee474c9-ebc2-4a53-b95b-5a413d067b5e",
   "metadata": {},
   "source": [
    "# CNN Model 1 (without data augmentation + vae)"
   ]
  },
  {
   "cell_type": "code",
   "execution_count": 2,
   "id": "a3728d12-182c-494b-83cc-368465841ab6",
   "metadata": {},
   "outputs": [
    {
     "name": "stdout",
     "output_type": "stream",
     "text": [
      "Found 2 images belonging to 1 classes.\n"
     ]
    }
   ],
   "source": []
  },
  {
   "cell_type": "markdown",
   "id": "007727e2-b865-4c23-8505-07348f32093e",
   "metadata": {},
   "source": [
    "# CNN Model 2 (with data augmentation (geometry))"
   ]
  },
  {
   "cell_type": "code",
   "execution_count": null,
   "id": "121841cb-7db6-4a65-8ce0-d5deda213477",
   "metadata": {},
   "outputs": [],
   "source": []
  },
  {
   "cell_type": "markdown",
   "id": "fd54faf8-fd85-4cdc-aec1-29f83e2a2cf9",
   "metadata": {},
   "source": [
    "# CNN Model 3 (with data augmetnation + VAE)"
   ]
  },
  {
   "cell_type": "code",
   "execution_count": null,
   "id": "12fb5ee6-3abd-495d-9490-52a2c703a9fc",
   "metadata": {},
   "outputs": [],
   "source": []
  }
 ],
 "metadata": {
  "kernelspec": {
   "display_name": "Python 3 (ipykernel)",
   "language": "python",
   "name": "python3"
  },
  "language_info": {
   "codemirror_mode": {
    "name": "ipython",
    "version": 3
   },
   "file_extension": ".py",
   "mimetype": "text/x-python",
   "name": "python",
   "nbconvert_exporter": "python",
   "pygments_lexer": "ipython3",
   "version": "3.12.7"
  }
 },
 "nbformat": 4,
 "nbformat_minor": 5
}
